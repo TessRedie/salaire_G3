{
 "cells": [
  {
   "cell_type": "markdown",
   "metadata": {},
   "source": [
    "# Indeed Job Scraper\n",
    "create a general purpose job scraper"
   ]
  },
  {
   "cell_type": "code",
   "execution_count": 27,
   "metadata": {},
   "outputs": [],
   "source": [
    "#import csv\n",
    "from datetime import datetime\n",
    "import requests\n",
    "from bs4 import BeautifulSoup\n",
    "import csv"
   ]
  },
  {
   "cell_type": "markdown",
   "metadata": {},
   "source": [
    "### Setup the query and url"
   ]
  },
  {
   "cell_type": "code",
   "execution_count": 2,
   "metadata": {},
   "outputs": [],
   "source": [
    "def get_url(position, location):\n",
    "    \"\"\"Generate url from position and location\"\"\"\n",
    "    template = 'https://www.indeed.fr/jobs?q={}&l={}'\n",
    "    position = position.replace(' ', '+')\n",
    "    location = location.replace(' ', '+')\n",
    "    url = template.format(position, location)\n",
    "    return url"
   ]
  },
  {
   "cell_type": "code",
   "execution_count": 3,
   "metadata": {},
   "outputs": [
    {
     "name": "stdout",
     "output_type": "stream",
     "text": [
      "https://www.indeed.fr/jobs?q=developpeur&l=\n"
     ]
    }
   ],
   "source": [
    "url = get_url('developpeur', '')\n",
    "print(url)"
   ]
  },
  {
   "cell_type": "markdown",
   "metadata": {},
   "source": [
    "### Extract the html data"
   ]
  },
  {
   "cell_type": "code",
   "execution_count": 4,
   "metadata": {},
   "outputs": [],
   "source": [
    "response = requests.get(url)"
   ]
  },
  {
   "cell_type": "code",
   "execution_count": 5,
   "metadata": {},
   "outputs": [],
   "source": [
    "soup = BeautifulSoup(response.text, 'html.parser')"
   ]
  },
  {
   "cell_type": "code",
   "execution_count": 6,
   "metadata": {},
   "outputs": [],
   "source": [
    "cards = soup.find_all('div', 'job_seen_beacon')"
   ]
  },
  {
   "cell_type": "markdown",
   "metadata": {},
   "source": [
    "### Prototype avec un seul enregistrement"
   ]
  },
  {
   "cell_type": "code",
   "execution_count": 7,
   "metadata": {},
   "outputs": [],
   "source": [
    "card = cards[0]"
   ]
  },
  {
   "cell_type": "markdown",
   "metadata": {},
   "source": [
    "#### Séparation en 3 groupes d'un enregistrement"
   ]
  },
  {
   "cell_type": "code",
   "execution_count": 8,
   "metadata": {},
   "outputs": [],
   "source": [
    "topCard = card.find('td','resultContent')"
   ]
  },
  {
   "cell_type": "code",
   "execution_count": 9,
   "metadata": {},
   "outputs": [],
   "source": [
    "botCard = card.find('table','jobCardShelfContainer')"
   ]
  },
  {
   "cell_type": "markdown",
   "metadata": {},
   "source": [
    "#### Titre du poste"
   ]
  },
  {
   "cell_type": "code",
   "execution_count": 10,
   "metadata": {},
   "outputs": [
    {
     "data": {
      "text/plain": [
       "'nouveauDEVELOPPEUR SKYWISE (H/F)'"
      ]
     },
     "execution_count": 10,
     "metadata": {},
     "output_type": "execute_result"
    }
   ],
   "source": [
    "job_title = topCard.find('h2','jobTitle').text\n",
    "job_title"
   ]
  },
  {
   "cell_type": "markdown",
   "metadata": {},
   "source": [
    "#### Nom de l'entreprise"
   ]
  },
  {
   "cell_type": "code",
   "execution_count": 11,
   "metadata": {},
   "outputs": [
    {
     "data": {
      "text/plain": [
       "'Airbus'"
      ]
     },
     "execution_count": 11,
     "metadata": {},
     "output_type": "execute_result"
    }
   ],
   "source": [
    "company = topCard.find('div', 'companyInfo').find('span','companyName').text\n",
    "company"
   ]
  },
  {
   "cell_type": "markdown",
   "metadata": {},
   "source": [
    "#### Adresse de l'entreprise"
   ]
  },
  {
   "cell_type": "code",
   "execution_count": 12,
   "metadata": {},
   "outputs": [
    {
     "data": {
      "text/plain": [
       "'31300 Toulouse'"
      ]
     },
     "execution_count": 12,
     "metadata": {},
     "output_type": "execute_result"
    }
   ],
   "source": [
    "job_location = topCard.find('div', 'companyLocation').text #.get('data-rc-loc')\n",
    "job_location # A revoir"
   ]
  },
  {
   "cell_type": "markdown",
   "metadata": {},
   "source": [
    "#### Salaire proposé"
   ]
  },
  {
   "cell_type": "code",
   "execution_count": 13,
   "metadata": {},
   "outputs": [
    {
     "data": {
      "text/plain": [
       "''"
      ]
     },
     "execution_count": 13,
     "metadata": {},
     "output_type": "execute_result"
    }
   ],
   "source": [
    "salary = topCard.find('div','salary-snippet') # Dans le cas d'une offre avec le salaire precise\n",
    "\n",
    "# Le salaire n'est pas toujours present sur les offres...\n",
    "if salary:\n",
    "    salary = salary.text.replace(u'\\xa0', u' ')\n",
    "else:\n",
    "    salary = '' \n",
    "    \n",
    "salary"
   ]
  },
  {
   "cell_type": "markdown",
   "metadata": {},
   "source": [
    "#### Description du poste"
   ]
  },
  {
   "cell_type": "code",
   "execution_count": 14,
   "metadata": {},
   "outputs": [
    {
     "data": {
      "text/plain": [
       "'Vous souhaitez contribuer au développement de projets digitaux, de logiciels et de nouvelles applications ? Vous souhaitez contribuer à la croissance de notre…'"
      ]
     },
     "execution_count": 14,
     "metadata": {},
     "output_type": "execute_result"
    }
   ],
   "source": [
    "summary = botCard.find('div','job-snippet').text.strip().replace('\\n', ' ')\n",
    "summary"
   ]
  },
  {
   "cell_type": "markdown",
   "metadata": {},
   "source": [
    "#### Date de publication"
   ]
  },
  {
   "cell_type": "code",
   "execution_count": 100,
   "metadata": {},
   "outputs": [],
   "source": [
    "post_date = botCard.find('span', 'date').text\n",
    "#today = datetime.today().strftime('%Y-%m-%d')"
   ]
  },
  {
   "cell_type": "code",
   "execution_count": 101,
   "metadata": {},
   "outputs": [
    {
     "data": {
      "text/plain": [
       "'Postedil y a 1 jour'"
      ]
     },
     "execution_count": 101,
     "metadata": {},
     "output_type": "execute_result"
    }
   ],
   "source": [
    "post_date"
   ]
  },
  {
   "cell_type": "markdown",
   "metadata": {},
   "source": [
    "#### Final"
   ]
  },
  {
   "cell_type": "code",
   "execution_count": 110,
   "metadata": {},
   "outputs": [],
   "source": [
    "record = (job_title, company, job_location,salary, summary,post_date)"
   ]
  },
  {
   "cell_type": "code",
   "execution_count": 111,
   "metadata": {},
   "outputs": [
    {
     "data": {
      "text/plain": [
       "('Developpeur Web H/F',\n",
       " 'Avisto',\n",
       " 'Télétravail in 06220 Vallauris',\n",
       " '42 000 € par an',\n",
       " \"Acteur majeur et indépendant dans la profession et fort de 40 ans d'expérience, ACD propose des logiciels toujours plus performants et innovants afin d…\",\n",
       " 'Postedil y a 1 jour')"
      ]
     },
     "execution_count": 111,
     "metadata": {},
     "output_type": "execute_result"
    }
   ],
   "source": [
    "record"
   ]
  },
  {
   "cell_type": "markdown",
   "metadata": {},
   "source": [
    "### Automatisation avec une classe"
   ]
  },
  {
   "cell_type": "code",
   "execution_count": 3,
   "metadata": {},
   "outputs": [],
   "source": [
    "\"\"\" \n",
    "Author: Victorien\n",
    "Date: 8/02  \n",
    "Description:\n",
    "    - Scrapping indeed en fonction d'un poste et/ou d'une adresse\n",
    "    - creation d'une liste des jobs & infos\n",
    "    - TODO : Export JSON ?\n",
    "    - TODO : Export mongoDB ?\n",
    "    \n",
    "\"\"\"\n",
    "class Scrapper():\n",
    "\n",
    "    template = 'https://www.indeed.fr/jobs?q={}&l={}' # Constante de classe\n",
    "\n",
    "    # constructeur\n",
    "    def __init__(self,position='',location=''):\n",
    "        \n",
    "        self.position = position\n",
    "        self.location = location\n",
    "        self.records = [] # init de la liste des enregistrements\n",
    "        \n",
    "        url = self.getUrl(self.template)\n",
    "        \n",
    "        # Parcours de toutes les pages\n",
    "        while True:\n",
    "            response = requests.get(url)\n",
    "            soup = BeautifulSoup(response.text, 'html.parser')\n",
    "            self.cards = soup.find_all('div', 'job_seen_beacon') \n",
    "\n",
    "            # Construction du jeu d'enregistrement\n",
    "            for card in cards:\n",
    "                record = self.getRecord(card)\n",
    "                self.records.append(record)\n",
    "            try:\n",
    "                url = 'https://www.indeed.fr' + soup.find('a', {'aria-label': 'Next'}).get('href')\n",
    "            except AttributeError:\n",
    "                break\n",
    "        \n",
    "    def getUrl(self,template):\n",
    "        position = self.position.replace(' ', '+')\n",
    "        location = self.location.replace(' ', '+')\n",
    "        url = template.format(position, location)\n",
    "        return url\n",
    "    \n",
    "    def getRecord(self,card):\n",
    "        # Separation d'une carte indeed en 2 parties\n",
    "        topCard = card.find('td','resultContent')\n",
    "        botCard = card.find('table','jobCardShelfContainer')\n",
    "        \n",
    "        job_title = topCard.find('h2','jobTitle').text # Titre du poste\n",
    "        company = topCard.find('div', 'companyInfo').find('span','companyName').text # Nom de l'entreprise\n",
    "        job_location = topCard.find('div', 'companyLocation').text # localisation\n",
    "        \n",
    "        salary = topCard.find('div','salary-snippet') # Dans le cas d'une offre avec le salaire precise\n",
    "        if salary: # Le salaire n'est pas toujours present sur les offres...\n",
    "            salary = salary.text.replace(u'\\xa0', u' ')\n",
    "        else:\n",
    "            salary = ''\n",
    "            \n",
    "        summary = botCard.find('div','job-snippet').text.strip().replace('\\n', ' ') # Description du poste\n",
    "        post_date = botCard.find('span', 'date').text # Date de publication\n",
    "        \n",
    "        record = (job_title, company, job_location,salary, summary,post_date)\n",
    "        return record\n",
    "    \n",
    "    def exportCSV(self):\n",
    "        # save the job data\n",
    "        with open('results.csv', 'w', newline='', encoding='ISO-8859-1') as f:\n",
    "            writer = csv.writer(f)\n",
    "            # Titre\n",
    "            writer.writerow(['Titre du poste', 'Entreprise', 'Adresse', 'Salaire','Decription','date'])\n",
    "            # Ecriture\n",
    "            writer.writerows(self.records)\n",
    "            \n",
    "    #def exportJSON():\n",
    "        \n",
    "    #def mongoDB():\n",
    "        \n",
    "            "
   ]
  },
  {
   "cell_type": "code",
   "execution_count": 35,
   "metadata": {},
   "outputs": [],
   "source": [
    "scrap = Scrapper()"
   ]
  },
  {
   "cell_type": "code",
   "execution_count": 36,
   "metadata": {},
   "outputs": [],
   "source": [
    "scrap.exportCSV()"
   ]
  },
  {
   "cell_type": "code",
   "execution_count": 27,
   "metadata": {},
   "outputs": [],
   "source": [
    "# run the main program\n",
    "main('senior accountant', 'charlotte nc')"
   ]
  }
 ],
 "metadata": {
  "kernelspec": {
   "display_name": "Python 3 (ipykernel)",
   "language": "python",
   "name": "python3"
  },
  "language_info": {
   "codemirror_mode": {
    "name": "ipython",
    "version": 3
   },
   "file_extension": ".py",
   "mimetype": "text/x-python",
   "name": "python",
   "nbconvert_exporter": "python",
   "pygments_lexer": "ipython3",
   "version": "3.8.12"
  }
 },
 "nbformat": 4,
 "nbformat_minor": 4
}
